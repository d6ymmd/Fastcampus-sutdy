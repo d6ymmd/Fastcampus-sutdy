{
 "cells": [
  {
   "cell_type": "code",
   "execution_count": 6,
   "metadata": {},
   "outputs": [
    {
     "name": "stdout",
     "output_type": "stream",
     "text": [
      "hello\n",
      "======================hello=======================\n"
     ]
    }
   ],
   "source": [
    "## 59번\n",
    "## 총문자열 길이 50, 문자열 가운데 정렬, 빈칸 =로 채우기, 사용자가 문자열 입\n",
    "string = input()\n",
    "a = '{:=^50}'.format(string)\n",
    "print(a)"
   ]
  },
  {
   "cell_type": "code",
   "execution_count": 43,
   "metadata": {},
   "outputs": [
    {
     "name": "stdout",
     "output_type": "stream",
     "text": [
      "England 22023\n"
     ]
    }
   ],
   "source": [
    "## 56번 *****\n",
    "nationWidth = {\n",
    "    'korea': 220877,\n",
    "    'Rusia': 17098242,\n",
    "    'China': 9596961,\n",
    "    'France': 543965,\n",
    "    'Japan': 377915,\n",
    "    'England' : 242900,\n",
    "}\n",
    "\n",
    "w = nationWidth['korea']\n",
    "nationWidth.pop('korea')\n",
    "l = list(nationWidth.items())\n",
    "gap = max(nationWidth.values())\n",
    "item = 0\n",
    "\n",
    "for i in l:\n",
    "    if gap > abs(i[1] - w):\n",
    "        gap = abs(i[1] - w)\n",
    "        item = i\n",
    "print(item[0],item[1]-220877)"
   ]
  },
  {
   "cell_type": "code",
   "execution_count": 7,
   "metadata": {},
   "outputs": [
    {
     "name": "stdout",
     "output_type": "stream",
     "text": [
      "301\n"
     ]
    }
   ],
   "source": [
    "## 57번\n",
    "a = str(list(range(1001))).count('1')\n",
    "print(a)"
   ]
  },
  {
   "cell_type": "code",
   "execution_count": 3,
   "metadata": {},
   "outputs": [
    {
     "name": "stdout",
     "output_type": "stream",
     "text": [
      "123456789\n",
      "123,456,789\n"
     ]
    }
   ],
   "source": [
    "## 58번\n",
    "num = int(input())\n",
    "result = format(num, ',')\n",
    "print(result)"
   ]
  },
  {
   "cell_type": "code",
   "execution_count": 5,
   "metadata": {},
   "outputs": [
    {
     "name": "stdout",
     "output_type": "stream",
     "text": [
      "1234567\n",
      "123,456,789\n"
     ]
    }
   ],
   "source": [
    "num = int(input())\n",
    "'{:,}'.format(num)\n",
    "print(result)"
   ]
  },
  {
   "cell_type": "code",
   "execution_count": null,
   "metadata": {},
   "outputs": [],
   "source": [
    "## 60번\n",
    "students = ['강은지','김유정','박현서','최성훈','홍유진','박지호','권윤일','김채리','한지호','김진이','김민호','강채연']\n",
    "b = sorted(students)\n",
    "\n",
    "for number, name in enumerate(b):\n",
    "    print(\"번호:{}, 이름:{}\".format(number+1, name))"
   ]
  },
  {
   "cell_type": "code",
   "execution_count": null,
   "metadata": {},
   "outputs": [],
   "source": []
  },
  {
   "cell_type": "code",
   "execution_count": null,
   "metadata": {},
   "outputs": [],
   "source": []
  }
 ],
 "metadata": {
  "kernelspec": {
   "display_name": "Python 3",
   "language": "python",
   "name": "python3"
  },
  "language_info": {
   "codemirror_mode": {
    "name": "ipython",
    "version": 3
   },
   "file_extension": ".py",
   "mimetype": "text/x-python",
   "name": "python",
   "nbconvert_exporter": "python",
   "pygments_lexer": "ipython3",
   "version": "3.7.5"
  }
 },
 "nbformat": 4,
 "nbformat_minor": 2
}
