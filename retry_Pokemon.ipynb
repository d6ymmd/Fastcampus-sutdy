class Pokemon:
    POKEMON_LIST = []
    
    def __init__(self, name, type):
        self.friends = []
        self.name = name
        self.type = type
        self.__level = 1
        Pokemon.POKEMON_LIST.append(self)
    
    @property
    def level(self):
        return self._level
    
    def level_up(self):
        self.__level = level
    
    def add_friend(self, pokemon):
        self.friends += 1
        
    def show_friends(self):
        if len(self.friends > 0):
            result = '피카츄의 친구들: {Pokemon_friends}(총 {len(Pokemon_friends)}마리)'
        else:
            print('피카츄에게는 친구가 없습니다....')
    
    @classmethod
    def show_total_pokemon(cls):
        if len(cls.POKEMON_LIST) > 0:
            result = '전체 포켓몬: {Pokemon_list}(총 {len(cls.POKEMON_LIST)})'
        else:
            print('포켓몬이 없습니다...')
