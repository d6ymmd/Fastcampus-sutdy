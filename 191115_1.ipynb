{
 "cells": [
  {
   "cell_type": "code",
   "execution_count": 1,
   "metadata": {},
   "outputs": [],
   "source": [
    "# 문제 조금씩 바꿔서 풀어보기"
   ]
  },
  {
   "cell_type": "code",
   "execution_count": null,
   "metadata": {},
   "outputs": [],
   "source": [
    "# 06-1 내가 프로그램을 만들 수 있을까?"
   ]
  },
  {
   "cell_type": "code",
   "execution_count": 2,
   "metadata": {},
   "outputs": [],
   "source": [
    "# 1.구구단 (i x j = a)의 형태로 출력해보기"
   ]
  },
  {
   "cell_type": "code",
   "execution_count": 5,
   "metadata": {},
   "outputs": [
    {
     "name": "stdout",
     "output_type": "stream",
     "text": [
      " 2 x 2 = 4 \n",
      " 2 x 3 = 6 \n",
      " 2 x 4 = 8 \n",
      " 2 x 5 = 10 \n",
      " 2 x 6 = 12 \n",
      " 2 x 7 = 14 \n",
      " 2 x 8 = 16 \n",
      " 2 x 9 = 18 \n",
      " 3 x 2 = 6 \n",
      " 3 x 3 = 9 \n",
      " 3 x 4 = 12 \n",
      " 3 x 5 = 15 \n",
      " 3 x 6 = 18 \n",
      " 3 x 7 = 21 \n",
      " 3 x 8 = 24 \n",
      " 3 x 9 = 27 \n",
      " 4 x 2 = 8 \n",
      " 4 x 3 = 12 \n",
      " 4 x 4 = 16 \n",
      " 4 x 5 = 20 \n",
      " 4 x 6 = 24 \n",
      " 4 x 7 = 28 \n",
      " 4 x 8 = 32 \n",
      " 4 x 9 = 36 \n",
      " 5 x 2 = 10 \n",
      " 5 x 3 = 15 \n",
      " 5 x 4 = 20 \n",
      " 5 x 5 = 25 \n",
      " 5 x 6 = 30 \n",
      " 5 x 7 = 35 \n",
      " 5 x 8 = 40 \n",
      " 5 x 9 = 45 \n",
      " 6 x 2 = 12 \n",
      " 6 x 3 = 18 \n",
      " 6 x 4 = 24 \n",
      " 6 x 5 = 30 \n",
      " 6 x 6 = 36 \n",
      " 6 x 7 = 42 \n",
      " 6 x 8 = 48 \n",
      " 6 x 9 = 54 \n",
      " 7 x 2 = 14 \n",
      " 7 x 3 = 21 \n",
      " 7 x 4 = 28 \n",
      " 7 x 5 = 35 \n",
      " 7 x 6 = 42 \n",
      " 7 x 7 = 49 \n",
      " 7 x 8 = 56 \n",
      " 7 x 9 = 63 \n",
      " 8 x 2 = 16 \n",
      " 8 x 3 = 24 \n",
      " 8 x 4 = 32 \n",
      " 8 x 5 = 40 \n",
      " 8 x 6 = 48 \n",
      " 8 x 7 = 56 \n",
      " 8 x 8 = 64 \n",
      " 8 x 9 = 72 \n",
      " 9 x 2 = 18 \n",
      " 9 x 3 = 27 \n",
      " 9 x 4 = 36 \n",
      " 9 x 5 = 45 \n",
      " 9 x 6 = 54 \n",
      " 9 x 7 = 63 \n",
      " 9 x 8 = 72 \n",
      " 9 x 9 = 81 \n"
     ]
    }
   ],
   "source": [
    "for i in range(2, 10):\n",
    "    for j in range(2, 10):\n",
    "        print(f' {i} x {j} = {i*j} ')"
   ]
  },
  {
   "cell_type": "code",
   "execution_count": null,
   "metadata": {},
   "outputs": [],
   "source": [
    "# 1-1. 2단, 3단 등 단별로 구분하기"
   ]
  },
  {
   "cell_type": "code",
   "execution_count": 11,
   "metadata": {},
   "outputs": [
    {
     "name": "stdout",
     "output_type": "stream",
     "text": [
      "2\n",
      "2 x 1 = 2\n",
      "2 x 2 = 4\n",
      "2 x 3 = 6\n",
      "2 x 4 = 8\n",
      "2 x 5 = 10\n",
      "2 x 6 = 12\n",
      "2 x 7 = 14\n",
      "2 x 8 = 16\n",
      "2 x 9 = 18\n",
      "3\n",
      "3 x 1 = 3\n",
      "3 x 2 = 6\n",
      "3 x 3 = 9\n",
      "3 x 4 = 12\n",
      "3 x 5 = 15\n",
      "3 x 6 = 18\n",
      "3 x 7 = 21\n",
      "3 x 8 = 24\n",
      "3 x 9 = 27\n",
      "4\n",
      "4 x 1 = 4\n",
      "4 x 2 = 8\n",
      "4 x 3 = 12\n",
      "4 x 4 = 16\n",
      "4 x 5 = 20\n",
      "4 x 6 = 24\n",
      "4 x 7 = 28\n",
      "4 x 8 = 32\n",
      "4 x 9 = 36\n",
      "5\n",
      "5 x 1 = 5\n",
      "5 x 2 = 10\n",
      "5 x 3 = 15\n",
      "5 x 4 = 20\n",
      "5 x 5 = 25\n",
      "5 x 6 = 30\n",
      "5 x 7 = 35\n",
      "5 x 8 = 40\n",
      "5 x 9 = 45\n",
      "6\n",
      "6 x 1 = 6\n",
      "6 x 2 = 12\n",
      "6 x 3 = 18\n",
      "6 x 4 = 24\n",
      "6 x 5 = 30\n",
      "6 x 6 = 36\n",
      "6 x 7 = 42\n",
      "6 x 8 = 48\n",
      "6 x 9 = 54\n",
      "7\n",
      "7 x 1 = 7\n",
      "7 x 2 = 14\n",
      "7 x 3 = 21\n",
      "7 x 4 = 28\n",
      "7 x 5 = 35\n",
      "7 x 6 = 42\n",
      "7 x 7 = 49\n",
      "7 x 8 = 56\n",
      "7 x 9 = 63\n",
      "8\n",
      "8 x 1 = 8\n",
      "8 x 2 = 16\n",
      "8 x 3 = 24\n",
      "8 x 4 = 32\n",
      "8 x 5 = 40\n",
      "8 x 6 = 48\n",
      "8 x 7 = 56\n",
      "8 x 8 = 64\n",
      "8 x 9 = 72\n",
      "9\n",
      "9 x 1 = 9\n",
      "9 x 2 = 18\n",
      "9 x 3 = 27\n",
      "9 x 4 = 36\n",
      "9 x 5 = 45\n",
      "9 x 6 = 54\n",
      "9 x 7 = 63\n",
      "9 x 8 = 72\n",
      "9 x 9 = 81\n"
     ]
    }
   ],
   "source": [
    "result = []\n",
    "for i in range(2, 10):\n",
    "    for j in range(1, 10):\n",
    "        cur_result = f'{i} x {j} = {i * j}'\n",
    "        result.append(cur_result)\n",
    "\n",
    "for index, item in enumerate(result):\n",
    "    if index % 9 == 0:\n",
    "        print(index // 9 + 2)\n",
    "    print(item)"
   ]
  },
  {
   "cell_type": "code",
   "execution_count": 6,
   "metadata": {},
   "outputs": [],
   "source": [
    "# 2. n값을 입력했을 때 해당 숫자에 대한 단만 출력되는 함수 만들기"
   ]
  },
  {
   "cell_type": "code",
   "execution_count": 2,
   "metadata": {},
   "outputs": [
    {
     "name": "stdout",
     "output_type": "stream",
     "text": [
      "숫자를 입력하시오3\n",
      "3 X 1 = 3\n",
      "3 X 2 = 6\n",
      "3 X 3 = 9\n",
      "3 X 4 = 12\n",
      "3 X 5 = 15\n",
      "3 X 6 = 18\n",
      "3 X 7 = 21\n",
      "3 X 8 = 24\n",
      "3 X 9 = 27\n"
     ]
    }
   ],
   "source": [
    "while True:       \n",
    "    num1 = int(input(\"숫자를 입력하시오\"))\n",
    "    for i in range(1,10):\n",
    "        print (num1, \"X\", i, \"=\", num1*i)\n",
    "    break"
   ]
  },
  {
   "cell_type": "code",
   "execution_count": 7,
   "metadata": {},
   "outputs": [],
   "source": [
    "# 2-1.n이 10이상일 때 오류메세지를 출력하는 함수 만들기"
   ]
  },
  {
   "cell_type": "code",
   "execution_count": 6,
   "metadata": {},
   "outputs": [
    {
     "name": "stdout",
     "output_type": "stream",
     "text": [
      "숫자를 입력하시오11\n",
      "10미만의 수를 입력하시오\n",
      "10미만의 수를 입력하시오\n",
      "10미만의 수를 입력하시오\n",
      "10미만의 수를 입력하시오\n",
      "10미만의 수를 입력하시오\n",
      "10미만의 수를 입력하시오\n",
      "10미만의 수를 입력하시오\n",
      "10미만의 수를 입력하시오\n",
      "10미만의 수를 입력하시오\n"
     ]
    }
   ],
   "source": [
    "while True:       \n",
    "    num1 = int(input(\"숫자를 입력하시오\"))\n",
    "    for i in range(1,10):\n",
    "        if num1 > 10:\n",
    "            print('10미만의 수를 입력하시오')\n",
    "        else:\n",
    "            print (num1, \"X\", i, \"=\", num1*i)\n",
    "    break"
   ]
  },
  {
   "cell_type": "code",
   "execution_count": 8,
   "metadata": {},
   "outputs": [],
   "source": [
    "# 06-2. 3과 5의 배수 합하기"
   ]
  },
  {
   "cell_type": "code",
   "execution_count": 9,
   "metadata": {},
   "outputs": [],
   "source": [
    "# 1. 3과 5의 공배수 출력하기"
   ]
  },
  {
   "cell_type": "code",
   "execution_count": 5,
   "metadata": {},
   "outputs": [
    {
     "name": "stdout",
     "output_type": "stream",
     "text": [
      "15\n",
      "30\n",
      "45\n",
      "60\n",
      "75\n",
      "90\n"
     ]
    }
   ],
   "source": [
    "for i in range(1, 100):\n",
    "    if i % 3 == 0 and i % 5 == 0:\n",
    "        print(i)"
   ]
  },
  {
   "cell_type": "code",
   "execution_count": 6,
   "metadata": {},
   "outputs": [],
   "source": [
    "# 2. for 문과 break를 사용하여 17과 15의 공배수를 출력한 후 멈추는 함수 만들기"
   ]
  },
  {
   "cell_type": "code",
   "execution_count": 10,
   "metadata": {},
   "outputs": [
    {
     "name": "stdout",
     "output_type": "stream",
     "text": [
      "255\n"
     ]
    }
   ],
   "source": [
    "for i in range(1, 1000):\n",
    "    if i % 15 == 0:\n",
    "        if i % 17 == 0:\n",
    "            print(i)\n",
    "            break"
   ]
  }
 ],
 "metadata": {
  "kernelspec": {
   "display_name": "Python 3",
   "language": "python",
   "name": "python3"
  },
  "language_info": {
   "codemirror_mode": {
    "name": "ipython",
    "version": 3
   },
   "file_extension": ".py",
   "mimetype": "text/x-python",
   "name": "python",
   "nbconvert_exporter": "python",
   "pygments_lexer": "ipython3",
   "version": "3.7.5"
  }
 },
 "nbformat": 4,
 "nbformat_minor": 2
}
