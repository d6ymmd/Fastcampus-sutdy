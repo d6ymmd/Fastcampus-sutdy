{
 "cells": [
  {
   "cell_type": "code",
   "execution_count": 1,
   "metadata": {},
   "outputs": [],
   "source": [
    "## 알고리즘"
   ]
  },
  {
   "cell_type": "code",
   "execution_count": 2,
   "metadata": {},
   "outputs": [],
   "source": [
    "# 순차검색(Sequential Serach)\n",
    "# 1. 문자열과 키 문자 1개를 받는 함수 구현\n",
    "# 2. while문을 이용, 문자열에서 키 문자가 존재하는 index위치를 검사 후\n",
    "#    해당 index를 리턴\n",
    "# 3. 찾지 못했을 경우 -1을 리턴"
   ]
  },
  {
   "cell_type": "code",
   "execution_count": 6,
   "metadata": {},
   "outputs": [],
   "source": [
    "def index_search(string, key):\n",
    "    index = 0\n",
    "    while True:\n",
    "        if index == len(string):\n",
    "            return -1\n",
    "        elif key in string[index]:\n",
    "            return index\n",
    "        else:\n",
    "            index += 1"
   ]
  },
  {
   "cell_type": "code",
   "execution_count": 7,
   "metadata": {},
   "outputs": [
    {
     "data": {
      "text/plain": [
       "6"
      ]
     },
     "execution_count": 7,
     "metadata": {},
     "output_type": "execute_result"
    }
   ],
   "source": [
    "index_search('aelkajwgjwagjlw', 'w')"
   ]
  },
  {
   "cell_type": "code",
   "execution_count": 3,
   "metadata": {},
   "outputs": [],
   "source": [
    "# 선택정렬(Selection sort)\n",
    "\n",
    "# [9, 1, 6, 8, 4, 3, 2, 0, 5, 7]를 정렬한다.\n",
    "\n",
    "# 정렬과정\n",
    "# 1. 리스트 중 최소값을 검색\n",
    "# 2. 그 값을 맨 앞의 값과 교체\n",
    "# 3. 나머지 리스트에서 위의 과정을 반복\n",
    "\n",
    "# 해결방법\n",
    "# 1. 알고리즘 진행과정 그려보기\n",
    "# 2. 의사코드(Psuedo code)작성\n",
    "# 3. 실제 코드 작성"
   ]
  },
  {
   "cell_type": "code",
   "execution_count": 8,
   "metadata": {},
   "outputs": [],
   "source": [
    "a = [9, 1, 6, 8, 4, 3, 2, 0, 5, 7]"
   ]
  },
  {
   "cell_type": "code",
   "execution_count": 10,
   "metadata": {},
   "outputs": [
    {
     "name": "stdout",
     "output_type": "stream",
     "text": [
      "10\n"
     ]
    }
   ],
   "source": [
    "a_length = len(a)\n",
    "print(len(a))"
   ]
  },
  {
   "cell_type": "code",
   "execution_count": 13,
   "metadata": {},
   "outputs": [
    {
     "name": "stdout",
     "output_type": "stream",
     "text": [
      "0 [9, 1, 6, 8, 4, 3, 2, 0, 5, 7]\n",
      "1 [9, 1, 6, 8, 4, 3, 2, 0, 5, 7]\n",
      "2 [9, 1, 6, 8, 4, 3, 2, 0, 5, 7]\n",
      "3 [9, 1, 6, 8, 4, 3, 2, 0, 5, 7]\n",
      "4 [9, 1, 6, 8, 4, 3, 2, 0, 5, 7]\n",
      "5 [9, 1, 6, 8, 4, 3, 2, 0, 5, 7]\n",
      "6 [9, 1, 6, 8, 4, 3, 2, 0, 5, 7]\n",
      "7 [9, 1, 6, 8, 4, 3, 2, 0, 5, 7]\n",
      "8 [9, 1, 6, 8, 4, 3, 2, 0, 5, 7]\n"
     ]
    }
   ],
   "source": [
    "for i in range(a_length - 1):\n",
    "    print(i, a)"
   ]
  },
  {
   "cell_type": "code",
   "execution_count": 27,
   "metadata": {},
   "outputs": [
    {
     "name": "stdout",
     "output_type": "stream",
     "text": [
      "list_a_length: 10\n",
      "0 [9, 1, 6, 8, 4, 3, 2, 0, 5, 7]\n",
      "기준값: 9\n",
      "이 loop에서 min_value: 0\n",
      "이 loop에서 min_value_index: 7\n",
      "\n",
      "1 [0, 1, 6, 8, 4, 3, 2, 9, 5, 7]\n",
      "기준값: 1\n",
      "이 loop에서 min_value: 1\n",
      "이 loop에서 min_value_index: 1\n",
      "\n",
      "2 [0, 1, 6, 8, 4, 3, 2, 9, 5, 7]\n",
      "기준값: 6\n",
      "이 loop에서 min_value: 2\n",
      "이 loop에서 min_value_index: 6\n",
      "\n",
      "3 [0, 1, 2, 8, 4, 3, 6, 9, 5, 7]\n",
      "기준값: 8\n",
      "이 loop에서 min_value: 3\n",
      "이 loop에서 min_value_index: 5\n",
      "\n",
      "4 [0, 1, 2, 3, 4, 8, 6, 9, 5, 7]\n",
      "기준값: 4\n",
      "이 loop에서 min_value: 4\n",
      "이 loop에서 min_value_index: 4\n",
      "\n",
      "5 [0, 1, 2, 3, 4, 8, 6, 9, 5, 7]\n",
      "기준값: 8\n",
      "이 loop에서 min_value: 5\n",
      "이 loop에서 min_value_index: 8\n",
      "\n",
      "6 [0, 1, 2, 3, 4, 5, 6, 9, 8, 7]\n",
      "기준값: 6\n",
      "이 loop에서 min_value: 6\n",
      "이 loop에서 min_value_index: 6\n",
      "\n",
      "7 [0, 1, 2, 3, 4, 5, 6, 9, 8, 7]\n",
      "기준값: 9\n",
      "이 loop에서 min_value: 7\n",
      "이 loop에서 min_value_index: 9\n",
      "\n",
      "8 [0, 1, 2, 3, 4, 5, 6, 7, 8, 9]\n",
      "기준값: 8\n",
      "이 loop에서 min_value: 8\n",
      "이 loop에서 min_value_index: 8\n",
      "\n",
      "결과:  [0, 1, 2, 3, 4, 5, 6, 7, 8, 9]\n"
     ]
    }
   ],
   "source": [
    "list_a = [9, 1, 6, 8, 4, 3, 2, 0, 5, 7]\n",
    "list_a_length = len(list_a)\n",
    "print('list_a_length:', list_a_length)\n",
    "\n",
    "for i in range(list_a_length - 1):\n",
    "    print(i, list_a)\n",
    "    min_value = list_a[i]\n",
    "    min_value_index = i\n",
    "    print('기준값:', min_value)\n",
    "    for j in range(1 + i, 10):\n",
    "        if min_value > list_a[j]:\n",
    "            min_value = list_a[j]\n",
    "            min_value_index = j\n",
    "            \n",
    "    print('이 loop에서 min_value:', min_value)\n",
    "    print('이 loop에서 min_value_index:', min_value_index)\n",
    "                \n",
    "    list_a[i], list_a[min_value_index] = list_a[min_value_index], list_a[i]\n",
    "    \n",
    "    print()\n",
    "        \n",
    "print('결과: ', list_a)"
   ]
  },
  {
   "cell_type": "code",
   "execution_count": null,
   "metadata": {},
   "outputs": [],
   "source": []
  }
 ],
 "metadata": {
  "kernelspec": {
   "display_name": "Python 3",
   "language": "python",
   "name": "python3"
  },
  "language_info": {
   "codemirror_mode": {
    "name": "ipython",
    "version": 3
   },
   "file_extension": ".py",
   "mimetype": "text/x-python",
   "name": "python",
   "nbconvert_exporter": "python",
   "pygments_lexer": "ipython3",
   "version": "3.7.5"
  }
 },
 "nbformat": 4,
 "nbformat_minor": 2
}
