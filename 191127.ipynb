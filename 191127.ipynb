{
 "cells": [
  {
   "cell_type": "code",
   "execution_count": null,
   "metadata": {},
   "outputs": [],
   "source": [
    "# input으로 주어지면 str, int로 변환해줘야 함\n",
    "# 연속인지 판별하려면 -> sort나 sorted? \n",
    "# 순서대로 나열 시키고... for문이나 while사용해서 리스트 인덱스 사용해서판별?"
   ]
  },
  {
   "cell_type": "code",
   "execution_count": 6,
   "metadata": {},
   "outputs": [
    {
     "name": "stdout",
     "output_type": "stream",
     "text": [
      "1 6 2 4\n",
      "NO\n"
     ]
    }
   ],
   "source": [
    "## 해설\n",
    "user_input = input().split(' ')\n",
    "user_input = [int(i) for i in user_input]\n",
    "\n",
    "def sol(l):\n",
    "    l = sorted(l)\n",
    "    for i in range(len(l) - 1):\n",
    "        if l[i]+1 != l[i+1]:\n",
    "            return 'NO'\n",
    "    return 'YES'\n",
    "\n",
    "print(sol(user_input))"
   ]
  },
  {
   "cell_type": "code",
   "execution_count": 13,
   "metadata": {},
   "outputs": [
    {
     "name": "stdout",
     "output_type": "stream",
     "text": [
      "1 5 2 4\n",
      "[1, 2, 4, 5]\n",
      "YES\n"
     ]
    }
   ],
   "source": [
    "## 풀이_오류: 숫자가 순서대로 입력되지 않을 시 오류\n",
    "\n",
    "stamp = list(map(int, input().split()))\n",
    "stamp = sorted(stamp)\n",
    "print(stamp)\n",
    "\n",
    "def events(stamp):\n",
    "    for i in range(len(stamp)):\n",
    "        if stamp[i] + 1 != stamp[i + 1]:\n",
    "            return(\"NO\")\n",
    "        else:\n",
    "            return(\"YES\")\n",
    "            \n",
    "print(events(stamp))"
   ]
  },
  {
   "cell_type": "code",
   "execution_count": 15,
   "metadata": {},
   "outputs": [
    {
     "name": "stdout",
     "output_type": "stream",
     "text": [
      "1 6 2 4 \n",
      "[1, 2, 4, 6]\n",
      "YES\n"
     ]
    }
   ],
   "source": [
    "stamp = list(map(int, input().split()))\n",
    "a = sorted(stamp)\n",
    "print(a)\n",
    "\n",
    "def events(a):\n",
    "    for i in range(len(a)):\n",
    "        if a[i] + 1 != a[i + 1]:\n",
    "            return(\"NO\")\n",
    "        else:\n",
    "            return(\"YES\")\n",
    "            \n",
    "print(events(a))"
   ]
  },
  {
   "cell_type": "code",
   "execution_count": null,
   "metadata": {},
   "outputs": [],
   "source": []
  }
 ],
 "metadata": {
  "kernelspec": {
   "display_name": "Python 3",
   "language": "python",
   "name": "python3"
  }
 },
 "nbformat": 4,
 "nbformat_minor": 2
}
