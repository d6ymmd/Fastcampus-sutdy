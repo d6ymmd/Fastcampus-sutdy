{
 "cells": [
  {
   "cell_type": "code",
   "execution_count": 19,
   "metadata": {},
   "outputs": [
    {
     "name": "stdout",
     "output_type": "stream",
     "text": [
      "5050\n"
     ]
    }
   ],
   "source": [
    "#11. for를 이용한 기본 활용\n",
    "s = 0\n",
    "for i in range(101):\n",
    "    s += i\n",
    "print(s)"
   ]
  },
  {
   "cell_type": "code",
   "execution_count": 21,
   "metadata": {},
   "outputs": [
    {
     "name": "stdout",
     "output_type": "stream",
     "text": [
      "545 210 10\n",
      "파이어볼\n"
     ]
    }
   ],
   "source": [
    "#12. 게임 캐릭터 클래스 만들기\n",
    "class Wizard:\n",
    "    def __init__(self, health, mana, armor):\n",
    "        self.health = health\n",
    "        self.mana = mana\n",
    "        self.armor = armor\n",
    "    \n",
    "    def attack(self):\n",
    "        print('파이어볼')\n",
    "    \n",
    "\n",
    "x = Wizard(health = 545, mana = 210, armor = 10)\n",
    "print(x.health, x.mana, x.armor)\n",
    "x.attack()"
   ]
  },
  {
   "cell_type": "code",
   "execution_count": 1,
   "metadata": {},
   "outputs": [
    {
     "name": "stdout",
     "output_type": "stream",
     "text": [
      "1\n",
      "수성\n"
     ]
    }
   ],
   "source": [
    "#13.\n",
    "u = ['수성', '금성', '지구', '화성', '목성', '토성', '천왕성', '해왕성']\n",
    "n = int(input()) - 1\n",
    "print(u[n])"
   ]
  },
  {
   "cell_type": "code",
   "execution_count": 3,
   "metadata": {},
   "outputs": [
    {
     "name": "stdout",
     "output_type": "stream",
     "text": [
      "5\n",
      "5\n"
     ]
    }
   ],
   "source": [
    "#14.\n",
    "n = int(input())\n",
    "if n % 3 == 0:\n",
    "    print(\"짝\")\n",
    "else:\n",
    "    print(n)"
   ]
  },
  {
   "cell_type": "code",
   "execution_count": 7,
   "metadata": {},
   "outputs": [
    {
     "name": "stdout",
     "output_type": "stream",
     "text": [
      "김다정\n",
      "안녕하세요. 저는 김다정입니다.\n"
     ]
    }
   ],
   "source": [
    "#15.\n",
    "name = input()\n",
    "print('안녕하세요. 저는 {}입니다.'.format(name))"
   ]
  },
  {
   "cell_type": "code",
   "execution_count": 8,
   "metadata": {},
   "outputs": [
    {
     "name": "stdout",
     "output_type": "stream",
     "text": [
      "거꾸로\n",
      "로꾸거\n"
     ]
    }
   ],
   "source": [
    "#16.\n",
    "sentence = input()\n",
    "print(sentence[::-1])"
   ]
  },
  {
   "cell_type": "code",
   "execution_count": 11,
   "metadata": {},
   "outputs": [
    {
     "name": "stdout",
     "output_type": "stream",
     "text": [
      "160\n",
      "YES\n"
     ]
    }
   ],
   "source": [
    "#17.\n",
    "height = int(input())\n",
    "if height >= 150:\n",
    "    print(\"YES\")\n",
    "else:\n",
    "    print(\"NO\")"
   ]
  },
  {
   "cell_type": "code",
   "execution_count": 24,
   "metadata": {},
   "outputs": [
    {
     "name": "stdout",
     "output_type": "stream",
     "text": [
      "20 30 40 \n",
      "30.0\n"
     ]
    }
   ],
   "source": [
    "#18.\n",
    "test = list(map(int, input().split()))\n",
    "print(sum(test)/len(test))"
   ]
  },
  {
   "cell_type": "code",
   "execution_count": 25,
   "metadata": {},
   "outputs": [
    {
     "name": "stdout",
     "output_type": "stream",
     "text": [
      "2 4\n",
      "16\n"
     ]
    }
   ],
   "source": [
    "#19.\n",
    "num = list(map(int, input().split()))\n",
    "print(num[0] ** num[1])"
   ]
  },
  {
   "cell_type": "code",
   "execution_count": 30,
   "metadata": {},
   "outputs": [
    {
     "name": "stdout",
     "output_type": "stream",
     "text": [
      "10 2\n",
      "5 0\n"
     ]
    }
   ],
   "source": [
    "#20. \n",
    "num = list(map(int, input().split()))\n",
    "print(f'{num[0]//num[1]} {num[0]%num[1]}')"
   ]
  },
  {
   "cell_type": "code",
   "execution_count": 37,
   "metadata": {},
   "outputs": [
    {
     "name": "stdout",
     "output_type": "stream",
     "text": [
      "<class 'set'>\n",
      "<class 'dict'>\n",
      "<class 'set'>\n",
      "<class 'set'>\n",
      "<class 'set'>\n"
     ]
    }
   ],
   "source": [
    "#21.\n",
    "a = {1, 2, 3, 5, 6, 7}\n",
    "print(type(a))\n",
    "b = {}\n",
    "print(type(b))\n",
    "c = set('python')\n",
    "print(type(c))\n",
    "d = set(range(5))\n",
    "print(type(d))\n",
    "e = set()\n",
    "print(type(e))"
   ]
  },
  {
   "cell_type": "code",
   "execution_count": 38,
   "metadata": {},
   "outputs": [],
   "source": [
    "#22.\n",
    "#2 i%6 == 0일 때, 6의 배수"
   ]
  },
  {
   "cell_type": "code",
   "execution_count": 39,
   "metadata": {},
   "outputs": [
    {
     "name": "stdout",
     "output_type": "stream",
     "text": [
      "5.0\n"
     ]
    }
   ],
   "source": [
    "#23.\n",
    "# X\n",
    "print(10/2)"
   ]
  },
  {
   "cell_type": "code",
   "execution_count": 41,
   "metadata": {},
   "outputs": [
    {
     "name": "stdout",
     "output_type": "stream",
     "text": [
      "mary\n",
      "MARY\n"
     ]
    }
   ],
   "source": [
    "#24.\n",
    "i = input()\n",
    "print(i.upper())"
   ]
  },
  {
   "cell_type": "code",
   "execution_count": 48,
   "metadata": {},
   "outputs": [
    {
     "name": "stdout",
     "output_type": "stream",
     "text": [
      "3\n",
      "28.26\n"
     ]
    }
   ],
   "source": [
    "#25.\n",
    "def circle(n):\n",
    "    return n * n * 3.14\n",
    "\n",
    "print(circle(int(input())))"
   ]
  },
  {
   "cell_type": "code",
   "execution_count": 56,
   "metadata": {},
   "outputs": [
    {
     "name": "stdout",
     "output_type": "stream",
     "text": [
      "지구\n",
      "Earth\n"
     ]
    }
   ],
   "source": [
    "planet = {\n",
    "    '수성' : 'Mercury',\n",
    "    '금성' : 'Venus',\n",
    "    '지구' : 'Earth',\n",
    "    '화성' : 'Mars',\n",
    "    '목성' : 'Jupiter',\n",
    "    '토성' : 'Saturn',\n",
    "    '천왕성' : 'Uranus',\n",
    "    '해왕성' : 'Neptune',\n",
    "}\n",
    "name = input()\n",
    "print(planet[name])"
   ]
  },
  {
   "cell_type": "code",
   "execution_count": 58,
   "metadata": {},
   "outputs": [
    {
     "name": "stdout",
     "output_type": "stream",
     "text": [
      "Yujin Hyewon\n",
      "70 100\n",
      "{'Yujin': 70, 'Hyewon': 100}\n"
     ]
    }
   ],
   "source": [
    "#27.\n",
    "keys = input().split()\n",
    "values = map(int, input().split())\n",
    "\n",
    "print(dict(zip(keys, values)))"
   ]
  },
  {
   "cell_type": "code",
   "execution_count": 62,
   "metadata": {},
   "outputs": [
    {
     "name": "stdout",
     "output_type": "stream",
     "text": [
      "python\n",
      "py\n",
      "yt\n",
      "th\n",
      "ho\n",
      "on\n"
     ]
    }
   ],
   "source": [
    "#28.\n",
    "text = input()\n",
    "    \n",
    "for i in range(len(text)-1):\n",
    "    print(text[i], text[i + 1], sep='')"
   ]
  },
  {
   "cell_type": "code",
   "execution_count": 67,
   "metadata": {},
   "outputs": [
    {
     "name": "stdout",
     "output_type": "stream",
     "text": [
      "d\n",
      "NO\n"
     ]
    }
   ],
   "source": [
    "#29.\n",
    "Alphabet = input()\n",
    "\n",
    "if Alphabet.isupper():\n",
    "    print('YES')\n",
    "else:\n",
    "    print('NO')"
   ]
  },
  {
   "cell_type": "code",
   "execution_count": 69,
   "metadata": {},
   "outputs": [
    {
     "name": "stdout",
     "output_type": "stream",
     "text": [
      "pineapple is yummy\n",
      "apple\n",
      "4\n"
     ]
    }
   ],
   "source": [
    "#30.\n",
    "sentence = input()\n",
    "word = input()\n",
    "\n",
    "print(sentence.find(word))"
   ]
  },
  {
   "cell_type": "code",
   "execution_count": 70,
   "metadata": {},
   "outputs": [],
   "source": [
    "#31.\n",
    "#3) l[a:b] -> O(b-a)"
   ]
  },
  {
   "cell_type": "code",
   "execution_count": 71,
   "metadata": {},
   "outputs": [
    {
     "name": "stdout",
     "output_type": "stream",
     "text": [
      "안녕하세요. 저는 제주대학교 컴퓨터공학전공 혜림입니다.\n",
      "5\n"
     ]
    }
   ],
   "source": [
    "#32.\n",
    "write = input()\n",
    "num = list(write.strip().split())\n",
    "print(len(num))"
   ]
  },
  {
   "cell_type": "code",
   "execution_count": 72,
   "metadata": {},
   "outputs": [
    {
     "name": "stdout",
     "output_type": "stream",
     "text": [
      "1 2 3 4 5\n",
      "5 4 3 2 1\n"
     ]
    }
   ],
   "source": [
    "#33.\n",
    "num = input()\n",
    "print(num[::-1])"
   ]
  },
  {
   "cell_type": "code",
   "execution_count": 75,
   "metadata": {},
   "outputs": [
    {
     "name": "stdout",
     "output_type": "stream",
     "text": [
      "176 156 155 165 166 169\n",
      "NO\n"
     ]
    }
   ],
   "source": [
    "#34.\n",
    "height = input()\n",
    "\n",
    "l = list(height.strip().split())\n",
    "l = [int (i) for i in l]\n",
    "\n",
    "if l != sorted(l):\n",
    "    print('NO')\n",
    "else:\n",
    "    print('YES')"
   ]
  },
  {
   "cell_type": "code",
   "execution_count": 76,
   "metadata": {},
   "outputs": [
    {
     "name": "stdout",
     "output_type": "stream",
     "text": [
      "100\n",
      "1000\n",
      "10000\n"
     ]
    }
   ],
   "source": [
    "#35.\n",
    "def one(n):\n",
    "    def two(value):\n",
    "        sq = value ** n\n",
    "        return sq\n",
    "    return two\n",
    "\n",
    "a = one(2)\n",
    "b = one(3)\n",
    "c = one(4)\n",
    "print(a(10))\n",
    "print(b(10))\n",
    "print(c(10))"
   ]
  },
  {
   "cell_type": "code",
   "execution_count": 81,
   "metadata": {},
   "outputs": [
    {
     "name": "stdout",
     "output_type": "stream",
     "text": [
      "6\n",
      "6 12 18 24 30 36 42 48 54 "
     ]
    }
   ],
   "source": [
    "#36.\n",
    "n = int(input())\n",
    "\n",
    "for i in range(1, 10):\n",
    "    print(n*i, end = ' ')"
   ]
  },
  {
   "cell_type": "code",
   "execution_count": 1,
   "metadata": {},
   "outputs": [
    {
     "name": "stdout",
     "output_type": "stream",
     "text": [
      "원범 원범 혜원 혜원 혜원 혜원 유진 유진\n",
      "혜원(이)가 총 4표로 반장이 되었습니다.\n"
     ]
    }
   ],
   "source": [
    "#37. ***\n",
    "data = list(map(str, input().split()))\n",
    "count = 0\n",
    "for i in range(len(data)):\n",
    "    if data.count(data[i-1]) < data.count(data[i]):\n",
    "        count = i\n",
    "print(\"{}(이)가 총 {}표로 반장이 되었습니다.\".format(data[count], data.count(data[count])))"
   ]
  },
  {
   "cell_type": "code",
   "execution_count": 2,
   "metadata": {},
   "outputs": [
    {
     "name": "stdout",
     "output_type": "stream",
     "text": [
      "97 86 75 66 55 97 85 97 97 95\n",
      "[55, 66, 75, 85, 86, 95, 97, 97, 97, 97]\n",
      "6\n"
     ]
    }
   ],
   "source": [
    "#38. ***\n",
    "user_input = input()\n",
    "\n",
    "l = list(user_input.strip().split())\n",
    "l = [int (i) for i in l]\n",
    "\n",
    "count = 3\n",
    "\n",
    "data_sorted = sorted(list(l))\n",
    "\n",
    "print(data_sorted)\n",
    "for i in range(len(l)-1, 0, -1):\n",
    "    if data_sorted[-3] == l[i]:\n",
    "        count += 1\n",
    "print(count)"
   ]
  },
  {
   "cell_type": "code",
   "execution_count": 3,
   "metadata": {},
   "outputs": [
    {
     "name": "stdout",
     "output_type": "stream",
     "text": [
      "querty\n",
      "euerty\n"
     ]
    }
   ],
   "source": [
    "#39.\n",
    "n = input()\n",
    "print(n.replace(\"q\", \"e\"))"
   ]
  },
  {
   "cell_type": "code",
   "execution_count": 5,
   "metadata": {},
   "outputs": [
    {
     "name": "stdout",
     "output_type": "stream",
     "text": [
      "50\n",
      "5\n",
      "20\n",
      "20\n",
      "20\n",
      "2\n"
     ]
    }
   ],
   "source": [
    "#40. ***\n",
    "total = 0\n",
    "count = 0\n",
    "limit = int(input())\n",
    "n = int(input())\n",
    " \n",
    "for i in range(n):\n",
    "    if total <= limit:\n",
    "        total += int(input())\n",
    "        count = i\n",
    "print(count)"
   ]
  },
  {
   "cell_type": "code",
   "execution_count": 7,
   "metadata": {},
   "outputs": [
    {
     "name": "stdout",
     "output_type": "stream",
     "text": [
      "혜원 혜원 원범 원범 유진 혜원 원범 혜원\n",
      "혜원(이)가 총 4표로 반장이 되었습니다.\n"
     ]
    }
   ],
   "source": [
    "#37. ***\n",
    "data = list(map(str, input().split()))\n",
    "count = 0\n",
    "for i in range(len(data)):\n",
    "    if data.count(data[i-1]) < data.count(data[i]):\n",
    "        count = i\n",
    "print(\"{}(이)가 총 {}표로 반장이 되었습니다.\".format(data[count], data.count(data[count])))"
   ]
  },
  {
   "cell_type": "code",
   "execution_count": null,
   "metadata": {},
   "outputs": [],
   "source": []
  }
 ],
 "metadata": {
  "kernelspec": {
   "display_name": "Python 3",
   "language": "python",
   "name": "python3"
  },
  "language_info": {
   "codemirror_mode": {
    "name": "ipython",
    "version": 3
   },
   "file_extension": ".py",
   "mimetype": "text/x-python",
   "name": "python",
   "nbconvert_exporter": "python",
   "pygments_lexer": "ipython3",
   "version": "3.7.5"
  }
 },
 "nbformat": 4,
 "nbformat_minor": 2
}
