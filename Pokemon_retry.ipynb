{
 "cells": [
  {
   "cell_type": "code",
   "execution_count": 8,
   "metadata": {},
   "outputs": [],
   "source": [
    "class Pokemon:\n",
    "    POKEMON_LIST = []\n",
    "    \n",
    "    def __init__(self, name, type):\n",
    "        self.friends = []\n",
    "        self.name = name\n",
    "        self.type = type\n",
    "        self.__level = 1\n",
    "        Pokemon.POKEMON_LIST.append(self)\n",
    "    \n",
    "    @property\n",
    "    def level(self):\n",
    "        return self.__level\n",
    "    \n",
    "    def level_up(self):\n",
    "        self.__level += 1\n",
    "    \n",
    "    def add_friend(self, pokemon):\n",
    "        self.friends.append(self)\n",
    "        \n",
    "    def show_friends(self):\n",
    "        if len(self.friends) > 0:\n",
    "            result = '피카츄의 친구들: {Pokemon_friends}(총 {len(Pokemon_friends)}마리)'\n",
    "        else:\n",
    "            print('피카츄에게는 친구가 없습니다....')\n",
    "    \n",
    "    @classmethod\n",
    "    def show_total_pokemon(cls):\n",
    "        if len(cls.POKEMON_LIST) > 0:\n",
    "            result = '전체 포켓몬: {Pokemon_list}(총 {len(cls.POKEMON_LIST)})'\n",
    "        else:\n",
    "            print('포켓몬이 없습니다...')"
   ]
  },
  {
   "cell_type": "code",
   "execution_count": 9,
   "metadata": {},
   "outputs": [
    {
     "name": "stdout",
     "output_type": "stream",
     "text": [
      "포켓몬이 없습니다...\n"
     ]
    }
   ],
   "source": [
    "Pokemon.show_total_pokemon()"
   ]
  },
  {
   "cell_type": "code",
   "execution_count": 23,
   "metadata": {},
   "outputs": [
    {
     "data": {
      "text/plain": [
       "1"
      ]
     },
     "execution_count": 23,
     "metadata": {},
     "output_type": "execute_result"
    }
   ],
   "source": [
    "pikachu = Pokemon(name='피카츄', type='전기')\n",
    "pikachu.level"
   ]
  },
  {
   "cell_type": "code",
   "execution_count": 41,
   "metadata": {
    "scrolled": true
   },
   "outputs": [
    {
     "data": {
      "text/plain": [
       "10"
      ]
     },
     "execution_count": 41,
     "metadata": {},
     "output_type": "execute_result"
    }
   ],
   "source": [
    "pikachu.level_up()\n",
    "pikachu.level"
   ]
  },
  {
   "cell_type": "code",
   "execution_count": 39,
   "metadata": {},
   "outputs": [],
   "source": [
    "butterfree = Pokemon(name='버터플', type='벌레')\n",
    "starmie = Pokemon(name='아쿠스타', type='물')\n",
    "eevee = Pokemon(name='이브이', type='노멀')\n",
    "pikachu.show_friends()"
   ]
  },
  {
   "cell_type": "code",
   "execution_count": 37,
   "metadata": {},
   "outputs": [],
   "source": [
    "pikachu.add_friend(butterfree)\n",
    "pikachu.add_friend(starmie)\n",
    "pikachu.show_friends()"
   ]
  },
  {
   "cell_type": "code",
   "execution_count": 22,
   "metadata": {},
   "outputs": [],
   "source": [
    "Pokemon.show_total_pokemon()"
   ]
  },
  {
   "cell_type": "code",
   "execution_count": null,
   "metadata": {},
   "outputs": [],
   "source": []
  },
  {
   "cell_type": "code",
   "execution_count": null,
   "metadata": {},
   "outputs": [],
   "source": []
  },
  {
   "cell_type": "code",
   "execution_count": null,
   "metadata": {},
   "outputs": [],
   "source": []
  },
  {
   "cell_type": "code",
   "execution_count": null,
   "metadata": {},
   "outputs": [],
   "source": []
  },
  {
   "cell_type": "code",
   "execution_count": null,
   "metadata": {},
   "outputs": [],
   "source": []
  },
  {
   "cell_type": "code",
   "execution_count": null,
   "metadata": {},
   "outputs": [],
   "source": []
  },
  {
   "cell_type": "code",
   "execution_count": null,
   "metadata": {},
   "outputs": [],
   "source": []
  }
 ],
 "metadata": {
  "kernelspec": {
   "display_name": "Python 3",
   "language": "python",
   "name": "python3"
  },
  "language_info": {
   "codemirror_mode": {
    "name": "ipython",
    "version": 3
   },
   "file_extension": ".py",
   "mimetype": "text/x-python",
   "name": "python",
   "nbconvert_exporter": "python",
   "pygments_lexer": "ipython3",
   "version": "3.7.5"
  }
 },
 "nbformat": 4,
 "nbformat_minor": 2
}
